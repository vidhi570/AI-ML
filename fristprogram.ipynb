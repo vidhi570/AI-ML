{
 "cells": [
  {
   "cell_type": "code",
   "execution_count": 1,
   "id": "673731bf",
   "metadata": {},
   "outputs": [
    {
     "name": "stdout",
     "output_type": "stream",
     "text": [
      "hstack is [[12 13 18 19]\n",
      " [14 16 20 21]]\n",
      "vstack is [[12 13 18 19]\n",
      " [14 16 20 21]]\n"
     ]
    }
   ],
   "source": [
    "import numpy as np\n",
    "m1=np.array([[12,13],[14,16]])\n",
    "m2=np.array([[18,19],[20,21]])\n",
    "a=np.hstack((m1,m2))\n",
    "b=np.vstack((m1,m2))\n",
    "print(\"hstack is\",a)\n",
    "print(\"vstack is\",a)"
   ]
  },
  {
   "cell_type": "code",
   "execution_count": 2,
   "id": "f0ff0683",
   "metadata": {},
   "outputs": [
    {
     "name": "stdout",
     "output_type": "stream",
     "text": [
      "the array is [[1 2 3 4]\n",
      " [5 6 7 8]]\n",
      "the array is [[100 200 300 400]\n",
      " [500 600 700 800]]\n"
     ]
    }
   ],
   "source": [
    "import numpy as np\n",
    "a1=np.array([[1,2,3,4],[5,6,7,8]])\n",
    "a2=np.array([[100,200,300,400],[500,600,700,800]])\n",
    "print(\"the array is\",a1)\n",
    "print(\"the array is\",a2)"
   ]
  },
  {
   "cell_type": "code",
   "execution_count": 3,
   "id": "3c3e1de1",
   "metadata": {},
   "outputs": [
    {
     "name": "stdout",
     "output_type": "stream",
     "text": [
      "shape a:(5,)\n",
      "ndim 1\n",
      "size 5\n",
      "dtype int64\n",
      "itemsize 8\n",
      "data <memory at 0x7fb06ee50640>\n"
     ]
    }
   ],
   "source": [
    "import numpy as np\n",
    "a=np.array([1,2,3,4,5])\n",
    "b=np.array([2,3,4])\n",
    "\n",
    "print(\"shape a:{}\".format(a.shape))\n",
    "print(\"ndim {}\".format(a.ndim))\n",
    "print(\"size {}\".format(a.size))\n",
    "print(f\"dtype {a.dtype}\")\n",
    "print(f\"itemsize {a.itemsize}\")\n",
    "print(f\"data {a.data}\")"
   ]
  },
  {
   "cell_type": "code",
   "execution_count": 4,
   "id": "a96113be",
   "metadata": {},
   "outputs": [
    {
     "name": "stdout",
     "output_type": "stream",
     "text": [
      "[[2 3]\n",
      " [1 4]]\n"
     ]
    }
   ],
   "source": [
    "a1=np.array([[2,3,4,5],\n",
    "             [1,4,7,6]])\n",
    "a2=np.array([[1,1,1],[1,1,1]])\n",
    "#add(), subtract(),mod(),reminder(),multiply(),divide(), power(),absolute()\n",
    "\n",
    "\n",
    "sliced_arr=a1[:2,:2]\n",
    "print(sliced_arr)"
   ]
  },
  {
   "cell_type": "code",
   "execution_count": 5,
   "id": "e622e5a2",
   "metadata": {},
   "outputs": [
    {
     "name": "stdout",
     "output_type": "stream",
     "text": [
      "[7 4]\n"
     ]
    }
   ],
   "source": [
    "index_arr=a1[[1,1],[2,1]]\n",
    "print(index_arr)"
   ]
  },
  {
   "cell_type": "code",
   "execution_count": 6,
   "id": "916dfcd1",
   "metadata": {},
   "outputs": [
    {
     "name": "stdout",
     "output_type": "stream",
     "text": [
      "32\n"
     ]
    }
   ],
   "source": [
    "print(a1.sum())"
   ]
  },
  {
   "cell_type": "code",
   "execution_count": 7,
   "id": "0df6a793",
   "metadata": {},
   "outputs": [
    {
     "name": "stdout",
     "output_type": "stream",
     "text": [
      "214\n"
     ]
    }
   ],
   "source": [
    "arr=np.array([[25,64],[89,36]])\n",
    "print(arr.sum())\n"
   ]
  },
  {
   "cell_type": "code",
   "execution_count": 8,
   "id": "51ccaf17",
   "metadata": {},
   "outputs": [
    {
     "name": "stdout",
     "output_type": "stream",
     "text": [
      "[[5.         8.        ]\n",
      " [9.43398113 6.        ]]\n"
     ]
    }
   ],
   "source": [
    "print(np.sqrt(arr))"
   ]
  },
  {
   "cell_type": "code",
   "execution_count": 9,
   "id": "68d11e47",
   "metadata": {},
   "outputs": [
    {
     "name": "stdout",
     "output_type": "stream",
     "text": [
      "[[25 89]\n",
      " [64 36]]\n"
     ]
    }
   ],
   "source": [
    "print(arr.T)"
   ]
  },
  {
   "cell_type": "code",
   "execution_count": 10,
   "id": "cf5d0b90",
   "metadata": {},
   "outputs": [
    {
     "name": "stdout",
     "output_type": "stream",
     "text": [
      "[[31 36]\n",
      " [55 64]]\n"
     ]
    }
   ],
   "source": [
    "b1=np.array([[2,3],[4,5]])\n",
    "b2=np.array([[5,6],[7,8]])\n",
    "matrix_multi=np.dot(b1,b2)\n",
    "print(matrix_multi)"
   ]
  },
  {
   "cell_type": "code",
   "execution_count": 11,
   "id": "f54e042c",
   "metadata": {},
   "outputs": [
    {
     "name": "stdout",
     "output_type": "stream",
     "text": [
      "all() with axis none False\n",
      "all() with axis 0 [False  True]\n"
     ]
    }
   ],
   "source": [
    "bool=np.array([[True,True],[False,True]])\n",
    "print(\"all() with axis none\",np.all(bool))\n",
    "print(\"all() with axis 0\",np.all(bool,axis=0))#any()\n"
   ]
  },
  {
   "cell_type": "code",
   "execution_count": 12,
   "id": "3c6e318f",
   "metadata": {},
   "outputs": [
    {
     "name": "stdout",
     "output_type": "stream",
     "text": [
      "[0 1 2 3 4 5 6 7 8]\n",
      "[[0 1 2]\n",
      " [3 4 5]\n",
      " [6 7 8]]\n"
     ]
    }
   ],
   "source": [
    "temp=np.arange(9)\n",
    "print(temp)\n",
    "re=temp.reshape(3,3)\n",
    "print(re)"
   ]
  },
  {
   "cell_type": "code",
   "execution_count": 13,
   "id": "a26b8872",
   "metadata": {},
   "outputs": [
    {
     "name": "stdout",
     "output_type": "stream",
     "text": [
      "[[0 1]\n",
      " [3 4]\n",
      " [6 7]]\n"
     ]
    }
   ],
   "source": [
    "print(np.take(re,[0,1],axis=1))"
   ]
  },
  {
   "cell_type": "code",
   "execution_count": 14,
   "id": "2a7f449b",
   "metadata": {},
   "outputs": [
    {
     "name": "stdout",
     "output_type": "stream",
     "text": [
      "vstack: [[12 23]\n",
      " [23 34]\n",
      " [56 67]\n",
      " [78 89]\n",
      " [32 43]\n",
      " [54 65]]\n",
      "hstack: [[12 23 56 67 32 43]\n",
      " [23 34 78 89 54 65]]\n"
     ]
    }
   ],
   "source": [
    "x=np.array([[12,23],[23,34]])\n",
    "y=np.array([[56,67],[78,89]])\n",
    "z=np.array([[32,43],[54,65]])\n",
    "v=np.vstack((x,y,z))\n",
    "h=np.hstack((x,y,z))\n",
    "\n",
    "print(\"vstack:\",v)\n",
    "print(\"hstack:\",h)"
   ]
  },
  {
   "cell_type": "code",
   "execution_count": 15,
   "id": "37a35452",
   "metadata": {},
   "outputs": [
    {
     "ename": "NameError",
     "evalue": "name 'split' is not defined",
     "output_type": "error",
     "traceback": [
      "\u001b[0;31m---------------------------------------------------------------------------\u001b[0m",
      "\u001b[0;31mNameError\u001b[0m                                 Traceback (most recent call last)",
      "Input \u001b[0;32mIn [15]\u001b[0m, in \u001b[0;36m<cell line: 2>\u001b[0;34m()\u001b[0m\n\u001b[1;32m      1\u001b[0m h_split\u001b[38;5;241m=\u001b[39mnp\u001b[38;5;241m.\u001b[39mhsplit(h,\u001b[38;5;241m3\u001b[39m)\n\u001b[0;32m----> 2\u001b[0m \u001b[38;5;28mprint\u001b[39m(\u001b[38;5;124m\"\u001b[39m\u001b[38;5;124msplit:\u001b[39m\u001b[38;5;124m\"\u001b[39m,\u001b[43msplit\u001b[49m)\n\u001b[1;32m      3\u001b[0m v_split\u001b[38;5;241m=\u001b[39mnp\u001b[38;5;241m.\u001b[39mvsplit(h,\u001b[38;5;241m2\u001b[39m)\n\u001b[1;32m      4\u001b[0m \u001b[38;5;28mprint\u001b[39m(\u001b[38;5;124m\"\u001b[39m\u001b[38;5;124mvsplit:\u001b[39m\u001b[38;5;124m\"\u001b[39m,v_split)\n",
      "\u001b[0;31mNameError\u001b[0m: name 'split' is not defined"
     ]
    }
   ],
   "source": [
    "h_split=np.hsplit(h,3)\n",
    "print(\"split:\",split)\n",
    "v_split=np.vsplit(h,2)\n",
    "print(\"vsplit:\",v_split)"
   ]
  },
  {
   "cell_type": "code",
   "execution_count": 17,
   "id": "895d2e5e",
   "metadata": {},
   "outputs": [
    {
     "ename": "NameError",
     "evalue": "name 'hsplit' is not defined",
     "output_type": "error",
     "traceback": [
      "\u001b[0;31m---------------------------------------------------------------------------\u001b[0m",
      "\u001b[0;31mNameError\u001b[0m                                 Traceback (most recent call last)",
      "Input \u001b[0;32mIn [17]\u001b[0m, in \u001b[0;36m<cell line: 2>\u001b[0;34m()\u001b[0m\n\u001b[1;32m      1\u001b[0m h_split\u001b[38;5;241m=\u001b[39mnp\u001b[38;5;241m.\u001b[39mhsplit(h,\u001b[38;5;241m3\u001b[39m)\n\u001b[0;32m----> 2\u001b[0m \u001b[38;5;28mprint\u001b[39m(\u001b[38;5;124m\"\u001b[39m\u001b[38;5;124msplit:\u001b[39m\u001b[38;5;124m\"\u001b[39m,\u001b[43mhsplit\u001b[49m)\n\u001b[1;32m      3\u001b[0m v_split\u001b[38;5;241m=\u001b[39mnp\u001b[38;5;241m.\u001b[39mvsplit(h,\u001b[38;5;241m2\u001b[39m)\n\u001b[1;32m      4\u001b[0m \u001b[38;5;28mprint\u001b[39m(\u001b[38;5;124m\"\u001b[39m\u001b[38;5;124mvsplit:\u001b[39m\u001b[38;5;124m\"\u001b[39m,v_split)\n",
      "\u001b[0;31mNameError\u001b[0m: name 'hsplit' is not defined"
     ]
    }
   ],
   "source": [
    "h_split=np.hsplit(h,3)\n",
    "print(\"split:\",split)\n",
    "v_split=np.vsplit(h,2)\n",
    "print(\"vsplit:\",v_split)"
   ]
  },
  {
   "cell_type": "code",
   "execution_count": 18,
   "id": "fe10b33f",
   "metadata": {},
   "outputs": [
    {
     "name": "stdout",
     "output_type": "stream",
     "text": [
      "Sqrt:  [4.79583152 5.83095189 6.70820393 8.18535277]\n",
      "Exp:  [9.74480345e+09 5.83461743e+14 3.49342711e+19 1.25236317e+29]\n",
      "Sin:  [-0.8462204   0.52908269  0.85090352 -0.85551998]\n",
      "Cos:  [-0.53283302 -0.84857027  0.52532199 -0.5177698 ]\n",
      "Log:  [3.13549422 3.52636052 3.80666249 4.20469262]\n",
      "Sum:  169\n",
      "Std:  16.269219403523945\n"
     ]
    }
   ],
   "source": [
    "arr=np.array([23,34,45,67])\n",
    "print(\"Sqrt: \",np.sqrt(arr))#Returns the square root of each element \n",
    "print(\"Exp: \",np.exp(arr))     #Returns the exponentials of each element\n",
    "print(\"Sin: \",np.sin(arr))     #Returns the sin of each element\n",
    "print(\"Cos: \",np.cos(arr))     #Returns the cosine of each element\n",
    "print(\"Log: \",np.log(arr))     #Returns the logarithm of each element\n",
    "print(\"Sum: \",np.sum(arr))     #Returns the sum total of elements in the array\n",
    "print(\"Std: \",np.std(arr))     #Returns the standard deviation of in the array"
   ]
  },
  {
   "cell_type": "code",
   "execution_count": 19,
   "id": "a3e4c4ea",
   "metadata": {},
   "outputs": [
    {
     "name": "stdout",
     "output_type": "stream",
     "text": [
      "random: [0.01934241 0.32774664 0.44627303 0.56500232 0.18175561 0.08567501\n",
      " 0.33431118 0.18413079 0.95056075 0.04046635 0.77503871 0.94082527\n",
      " 0.8910562  0.28671942 0.91095767 0.43954648 0.37776774 0.61034339\n",
      " 0.77744796 0.00584605]\n",
      "\n",
      "rand: [[0.09789323 0.33866893 0.24281881 0.07913589]\n",
      " [0.81969619 0.20285784 0.30920636 0.02667197]\n",
      " [0.16960974 0.34793114 0.58689872 0.2347141 ]]\n",
      "\n",
      "randint: [67 56 93 38 70 58 41 22 70 46 13 20 93 85  0 57 93 76 75 80]\n",
      "\n",
      "permutation: [10 14 18  7 17  4 11 13  5 16 12  1  9 19  0  8 15  2  6  3]\n",
      "\n"
     ]
    }
   ],
   "source": [
    "print(\"random: {}\\n\".format(np.random.random(20)));\n",
    "\n",
    "print(\"rand: {}\\n\".format(np.random.rand(3, 4)));\n",
    "\n",
    "print(\"randint: {}\\n\".format(np.random.randint(0, 100, 20)));\n",
    "\n",
    "print(\"permutation: {}\\n\".format(np.random.permutation(np.arange(20))));"
   ]
  },
  {
   "cell_type": "code",
   "execution_count": null,
   "id": "24c3fb63",
   "metadata": {},
   "outputs": [],
   "source": []
  }
 ],
 "metadata": {
  "kernelspec": {
   "display_name": "Python 3 (ipykernel)",
   "language": "python",
   "name": "python3"
  },
  "language_info": {
   "codemirror_mode": {
    "name": "ipython",
    "version": 3
   },
   "file_extension": ".py",
   "mimetype": "text/x-python",
   "name": "python",
   "nbconvert_exporter": "python",
   "pygments_lexer": "ipython3",
   "version": "3.9.12"
  },
  "widgets": {
   "application/vnd.jupyter.widget-state+json": {
    "state": {},
    "version_major": 2,
    "version_minor": 0
   }
  }
 },
 "nbformat": 4,
 "nbformat_minor": 5
}
